{
 "cells": [
  {
   "cell_type": "code",
   "execution_count": 1,
   "metadata": {
    "executionInfo": {
     "elapsed": 1303,
     "status": "ok",
     "timestamp": 1619165813533,
     "user": {
      "displayName": "Chiara Koopmans",
      "photoUrl": "",
      "userId": "07017652876073703042"
     },
     "user_tz": -120
    },
    "id": "4RXbNkmMAa3o"
   },
   "outputs": [],
   "source": [
    "import numpy as np\n",
    "import pandas as pd\n",
    "\n",
    "from sklearn import svm \n",
    "from sklearn import preprocessing \n",
    "from sklearn.model_selection import GridSearchCV\n",
    "from sklearn.metrics import roc_auc_score\n",
    "from sklearn.model_selection import cross_val_score\n",
    "\n",
    "from sklearn.preprocessing import StandardScaler"
   ]
  },
  {
   "cell_type": "code",
   "execution_count": 2,
   "metadata": {
    "executionInfo": {
     "elapsed": 1292,
     "status": "ok",
     "timestamp": 1619165813537,
     "user": {
      "displayName": "Chiara Koopmans",
      "photoUrl": "",
      "userId": "07017652876073703042"
     },
     "user_tz": -120
    },
    "id": "5I26vg5BAji1"
   },
   "outputs": [],
   "source": [
    "def preprocess_features (data):\n",
    "\n",
    "  #1st step: average data over 12 hour stay\n",
    "  import warnings \n",
    "  mean_ls = []\n",
    "  for idx in data.pid.unique():\n",
    "    tmp_df = data.loc[data['pid'] == idx]\n",
    "    # I expect to see RuntimeWarnings in this block\n",
    "    with warnings.catch_warnings():\n",
    "      warnings.simplefilter(\"ignore\", category=RuntimeWarning)\n",
    "      mean_row = np.nanmean(tmp_df, axis = 0)\n",
    "    mean_ls.append(mean_row)\n",
    "    #create dataframe out of list\n",
    "  mean_df = pd.DataFrame(data = mean_ls, columns = data.columns)\n",
    "\n",
    "  #2nd step remove pid colum \n",
    "  mean_df.drop('pid', axis = 1, inplace = True)\n",
    "\n",
    "  #3rd step remove time column\n",
    "  mean_df.drop('Time', axis = 1, inplace = True)\n",
    "\n",
    "  #4th step: centralize data\n",
    "  centered_df = mean_df - np.nanmean(mean_df, axis=0)\n",
    "\n",
    "  #5th step: set nans to zero after scaling\n",
    "  filled_df = centered_df.fillna(-1)\n",
    "\n",
    "  #6th step: scale data\n",
    "  scaled_df = filled_df / np.nanstd(filled_df, axis=0)\n",
    "  \n",
    "  return scaled_df"
   ]
  },
  {
   "cell_type": "code",
   "execution_count": 4,
   "metadata": {
    "colab": {
     "base_uri": "https://localhost:8080/"
    },
    "executionInfo": {
     "elapsed": 36177,
     "status": "ok",
     "timestamp": 1619165848437,
     "user": {
      "displayName": "Chiara Koopmans",
      "photoUrl": "",
      "userId": "07017652876073703042"
     },
     "user_tz": -120
    },
    "id": "lKwAIeFhA_nV",
    "outputId": "be058395-2eac-4dff-89a0-e3fe62e0c2ed"
   },
   "outputs": [
    {
     "name": "stdout",
     "output_type": "stream",
     "text": [
      "(18995, 16)\n",
      "(227940, 37)\n",
      "(151968, 37)\n"
     ]
    }
   ],
   "source": [
    "#load train labels \n",
    "train_labels = pd.read_csv('train_labels.csv')\n",
    "print(train_labels.shape)\n",
    "#load train features \n",
    "train_features = pd.read_csv('train_features.csv')\n",
    "print(train_features.shape)\n",
    "train_features_preprocessed = preprocess_features(train_features)\n",
    "train_features_preprocessed.to_csv('preprocessed_features_ck.csv',index=False)\n",
    "#load test_features \n",
    "test_features = pd.read_csv('test_features.csv')\n",
    "print(test_features.shape)\n",
    "test_features_preprocessed = preprocess_features(test_features)\n",
    "#initalize output matrix \n",
    "output = pd.DataFrame(data = test_features.pid.unique(), columns = ['pid'])\n",
    "#define sigmoid function \n",
    "def sigmoid(x):\n",
    "  return 1 / (1 + np.exp(-x))"
   ]
  },
  {
   "cell_type": "code",
   "execution_count": 4,
   "metadata": {
    "colab": {
     "base_uri": "https://localhost:8080/"
    },
    "executionInfo": {
     "elapsed": 36166,
     "status": "ok",
     "timestamp": 1619165848439,
     "user": {
      "displayName": "Chiara Koopmans",
      "photoUrl": "",
      "userId": "07017652876073703042"
     },
     "user_tz": -120
    },
    "id": "HDpWGpPVBKEB",
    "outputId": "c819884a-bd01-49b8-9869-e019f6301e2b"
   },
   "outputs": [
    {
     "name": "stdout",
     "output_type": "stream",
     "text": [
      "LABEL_BaseExcess\n",
      "nr. 0 labels: 13899\n",
      "nr. 1 labels: 5096\n",
      "LABEL_Fibrinogen\n",
      "nr. 0 labels: 17595\n",
      "nr. 1 labels: 1400\n",
      "LABEL_AST\n",
      "nr. 0 labels: 14441\n",
      "nr. 1 labels: 4554\n",
      "LABEL_Alkalinephos\n",
      "nr. 0 labels: 14508\n",
      "nr. 1 labels: 4487\n",
      "LABEL_Bilirubin_total\n",
      "nr. 0 labels: 14425\n",
      "nr. 1 labels: 4570\n",
      "LABEL_Lactate\n",
      "nr. 0 labels: 15192\n",
      "nr. 1 labels: 3803\n",
      "LABEL_TroponinI\n",
      "nr. 0 labels: 17100\n",
      "nr. 1 labels: 1895\n",
      "LABEL_SaO2\n",
      "nr. 0 labels: 14556\n",
      "nr. 1 labels: 4439\n",
      "LABEL_Bilirubin_direct\n",
      "nr. 0 labels: 18351\n",
      "nr. 1 labels: 644\n",
      "LABEL_EtCO2\n",
      "nr. 0 labels: 17741\n",
      "nr. 1 labels: 1254\n",
      "LABEL_Sepsis\n",
      "nr. 0 labels: 17907\n",
      "nr. 1 labels: 1088\n"
     ]
    }
   ],
   "source": [
    "# Evaluate Imbalance\n",
    "medical_test_ls = ['LABEL_BaseExcess', 'LABEL_Fibrinogen', 'LABEL_AST', 'LABEL_Alkalinephos', 'LABEL_Bilirubin_total', 'LABEL_Lactate', 'LABEL_TroponinI', 'LABEL_SaO2', 'LABEL_Bilirubin_direct', 'LABEL_EtCO2', 'LABEL_Sepsis']\n",
    "for label in medical_test_ls:\n",
    "  print(label)\n",
    "  tmp_df = train_labels.loc[train_labels[label] == 1]\n",
    "  print('nr. 0 labels:', train_labels.shape[0] - tmp_df.shape[0])\n",
    "  print('nr. 1 labels:', tmp_df.shape[0])"
   ]
  },
  {
   "cell_type": "code",
   "execution_count": 5,
   "metadata": {
    "colab": {
     "base_uri": "https://localhost:8080/"
    },
    "executionInfo": {
     "elapsed": 36485,
     "status": "ok",
     "timestamp": 1619165848770,
     "user": {
      "displayName": "Chiara Koopmans",
      "photoUrl": "",
      "userId": "07017652876073703042"
     },
     "user_tz": -120
    },
    "id": "9rhjUL43WbJ3",
    "outputId": "0d356473-0dbe-4cbe-9b06-9b8b3618b416"
   },
   "outputs": [
    {
     "name": "stdout",
     "output_type": "stream",
     "text": [
      "(18995, 15)\n",
      "(18995, 35)\n",
      "1.0    5096\n",
      "0.0    5096\n",
      "Name: LABEL_BaseExcess, dtype: int64\n",
      "1.0    1400\n",
      "0.0    1400\n",
      "Name: LABEL_Fibrinogen, dtype: int64\n",
      "1.0    4554\n",
      "0.0    4554\n",
      "Name: LABEL_AST, dtype: int64\n",
      "1.0    4487\n",
      "0.0    4487\n",
      "Name: LABEL_Alkalinephos, dtype: int64\n",
      "1.0    4570\n",
      "0.0    4570\n",
      "Name: LABEL_Bilirubin_total, dtype: int64\n",
      "1.0    3803\n",
      "0.0    3803\n",
      "Name: LABEL_Lactate, dtype: int64\n",
      "1.0    1895\n",
      "0.0    1895\n",
      "Name: LABEL_TroponinI, dtype: int64\n",
      "1.0    4439\n",
      "0.0    4439\n",
      "Name: LABEL_SaO2, dtype: int64\n",
      "1.0    644\n",
      "0.0    644\n",
      "Name: LABEL_Bilirubin_direct, dtype: int64\n",
      "1.0    1254\n",
      "0.0    1254\n",
      "Name: LABEL_EtCO2, dtype: int64\n",
      "1.0    1088\n",
      "0.0    1088\n",
      "Name: LABEL_Sepsis, dtype: int64\n",
      "            Age     EtCO2       PTT  ...  LABEL_ABPm  LABEL_SpO2  LABEL_Heartrate\n",
      "13433  2.305289 -0.440574 -0.065497  ...        74.1        97.8             94.5\n",
      "6603  -1.524075 -5.322052 -0.635418  ...        88.6        99.3            116.6\n",
      "6490   0.724916 -0.440574 -0.065497  ...        56.7        98.2             82.1\n",
      "15532 -0.065270 -0.440574 -0.065497  ...        87.0        95.8             83.0\n",
      "14992 -1.645642 -0.440574  4.158980  ...        83.2        96.6             93.1\n",
      "...         ...       ...       ...  ...         ...         ...              ...\n",
      "18964  0.056297 -0.440574 -0.733664  ...        83.7        97.0             95.2\n",
      "18967  0.360215 -0.440574 -0.949804  ...       100.0        98.3             87.5\n",
      "18972 -1.341725 -0.440574 -0.491324  ...        79.4        96.1            101.7\n",
      "18988  0.785700 -0.440574 -0.059042  ...        65.4        98.0             88.9\n",
      "18992 -0.551538 -0.440574 -0.065497  ...        66.3        96.9            100.3\n",
      "\n",
      "[10192 rows x 50 columns]\n"
     ]
    }
   ],
   "source": [
    "#resample data \n",
    "medical_test_ls = ['LABEL_BaseExcess', 'LABEL_Fibrinogen', 'LABEL_AST', 'LABEL_Alkalinephos', 'LABEL_Bilirubin_total', 'LABEL_Lactate', 'LABEL_TroponinI', 'LABEL_SaO2', 'LABEL_Bilirubin_direct', 'LABEL_EtCO2', 'LABEL_Sepsis']\n",
    "labels_only = pd.DataFrame(data = train_labels, columns = train_labels.columns[1:])\n",
    "print(labels_only.shape)\n",
    "df_train = pd.concat([train_features_preprocessed, labels_only], axis=1)\n",
    "#print(df_train.columns)\n",
    "print(train_features_preprocessed.shape)\n",
    "resampled_data = []\n",
    "#print(df_train.columns)\n",
    "for label in medical_test_ls:\n",
    "  # Class count\n",
    "  count_class_0, count_class_1 = df_train[label].value_counts()\n",
    "  # Divide by class\n",
    "  df_class_0 = df_train[df_train[label] == 0]\n",
    "  df_class_1 = df_train[df_train[label] == 1]\n",
    "  df_class_0_under = df_class_0.sample(count_class_1)\n",
    "  df_test_under = pd.concat([df_class_0_under, df_class_1], axis=0)\n",
    "  print(df_test_under[label].value_counts())\n",
    "  resampled_data.append(df_test_under)\n",
    "print(resampled_data[0])"
   ]
  },
  {
   "cell_type": "code",
   "execution_count": 6,
   "metadata": {
    "colab": {
     "base_uri": "https://localhost:8080/",
     "height": 1000
    },
    "executionInfo": {
     "elapsed": 1028531,
     "status": "ok",
     "timestamp": 1619166840827,
     "user": {
      "displayName": "Chiara Koopmans",
      "photoUrl": "",
      "userId": "07017652876073703042"
     },
     "user_tz": -120
    },
    "id": "DSuwJhVnBiBa",
    "outputId": "94278e48-d260-4e9d-d86a-f8ac038da3f1"
   },
   "outputs": [
    {
     "name": "stdout",
     "output_type": "stream",
     "text": [
      "LABEL_BaseExcess\n",
      "(10192, 35)\n",
      "(64, 0.8566555779242668)\n",
      "(1.5, 0.8765972914969634)\n",
      "0.8765972914969634\n",
      "(2, 0.8773059159919278)\n",
      "0.8773059159919278\n",
      "(5, 0.8776615987061509)\n",
      "0.8776615987061509\n",
      "(10, 0.8765646036699881)\n",
      "<bound method BaseEstimator.get_params of SVC(C=5, break_ties=False, cache_size=200, class_weight=None, coef0=0.0,\n",
      "    decision_function_shape='ovr', degree=3, gamma='scale', kernel='rbf',\n",
      "    max_iter=-1, probability=False, random_state=None, shrinking=True,\n",
      "    tol=0.001, verbose=False)>\n",
      "LABEL_Fibrinogen\n",
      "(2800, 35)\n",
      "(64, 0.7149489795918367)\n",
      "(1.5, 0.7687755102040816)\n",
      "0.7687755102040816\n",
      "(2, 0.7684617346938776)\n",
      "(5, 0.7574591836734694)\n",
      "(10, 0.7476938775510205)\n",
      "<bound method BaseEstimator.get_params of SVC(C=1.5, break_ties=False, cache_size=200, class_weight=None, coef0=0.0,\n",
      "    decision_function_shape='ovr', degree=3, gamma='scale', kernel='rbf',\n",
      "    max_iter=-1, probability=False, random_state=None, shrinking=True,\n",
      "    tol=0.001, verbose=False)>\n",
      "LABEL_AST\n",
      "(9108, 35)\n",
      "(64, 0.661683322407054)\n",
      "(1.5, 0.7156735243872212)\n",
      "0.7156735243872212\n",
      "(2, 0.7134565237514795)\n",
      "(5, 0.7039742204510899)\n",
      "(10, 0.6944450285358155)\n",
      "<bound method BaseEstimator.get_params of SVC(C=1.5, break_ties=False, cache_size=200, class_weight=None, coef0=0.0,\n",
      "    decision_function_shape='ovr', degree=3, gamma='scale', kernel='rbf',\n",
      "    max_iter=-1, probability=False, random_state=None, shrinking=True,\n",
      "    tol=0.001, verbose=False)>\n",
      "LABEL_Alkalinephos\n",
      "(8974, 35)\n",
      "(64, 0.6664316717006795)\n",
      "(1.5, 0.7136497246663053)\n",
      "0.7136497246663053\n",
      "(2, 0.7119072349105775)\n",
      "(5, 0.7041919357912146)\n",
      "(10, 0.6964769367249082)\n",
      "<bound method BaseEstimator.get_params of SVC(C=1.5, break_ties=False, cache_size=200, class_weight=None, coef0=0.0,\n",
      "    decision_function_shape='ovr', degree=3, gamma='scale', kernel='rbf',\n",
      "    max_iter=-1, probability=False, random_state=None, shrinking=True,\n",
      "    tol=0.001, verbose=False)>\n",
      "LABEL_Bilirubin_total\n",
      "(9140, 35)\n",
      "(64, 0.6643311674942183)\n",
      "(1.5, 0.7182272838270711)\n",
      "0.7182272838270711\n",
      "(2, 0.7171616814061835)\n",
      "(5, 0.7110848028958723)\n",
      "(10, 0.7023823432240517)\n",
      "<bound method BaseEstimator.get_params of SVC(C=1.5, break_ties=False, cache_size=200, class_weight=None, coef0=0.0,\n",
      "    decision_function_shape='ovr', degree=3, gamma='scale', kernel='rbf',\n",
      "    max_iter=-1, probability=False, random_state=None, shrinking=True,\n",
      "    tol=0.001, verbose=False)>\n",
      "LABEL_Lactate\n",
      "(7606, 35)\n",
      "(64, 0.6955240705537493)\n",
      "(1.5, 0.7551347250492784)\n",
      "0.7551347250492784\n",
      "(2, 0.7539046080634544)\n",
      "(5, 0.7450684876417519)\n",
      "(10, 0.7345978751463538)\n",
      "<bound method BaseEstimator.get_params of SVC(C=1.5, break_ties=False, cache_size=200, class_weight=None, coef0=0.0,\n",
      "    decision_function_shape='ovr', degree=3, gamma='scale', kernel='rbf',\n",
      "    max_iter=-1, probability=False, random_state=None, shrinking=True,\n",
      "    tol=0.001, verbose=False)>\n",
      "LABEL_TroponinI\n",
      "(3790, 35)\n",
      "(64, 0.7525873531930298)\n",
      "(1.5, 0.7750906774528163)\n",
      "0.7750906774528163\n",
      "(2, 0.7769996031773657)\n",
      "0.7769996031773657\n",
      "(5, 0.7799778614740916)\n",
      "0.7799778614740916\n",
      "(10, 0.7780536197882221)\n",
      "<bound method BaseEstimator.get_params of SVC(C=5, break_ties=False, cache_size=200, class_weight=None, coef0=0.0,\n",
      "    decision_function_shape='ovr', degree=3, gamma='scale', kernel='rbf',\n",
      "    max_iter=-1, probability=False, random_state=None, shrinking=True,\n",
      "    tol=0.001, verbose=False)>\n",
      "LABEL_SaO2\n",
      "(8878, 35)\n",
      "(64, 0.7544173537434873)\n",
      "(1.5, 0.7998340634732664)\n",
      "0.7998340634732664\n",
      "(2, 0.7997309238875672)\n",
      "(5, 0.7969410647049744)\n",
      "(10, 0.7911196656298579)\n",
      "<bound method BaseEstimator.get_params of SVC(C=1.5, break_ties=False, cache_size=200, class_weight=None, coef0=0.0,\n",
      "    decision_function_shape='ovr', degree=3, gamma='scale', kernel='rbf',\n",
      "    max_iter=-1, probability=False, random_state=None, shrinking=True,\n",
      "    tol=0.001, verbose=False)>\n",
      "LABEL_Bilirubin_direct\n",
      "(1288, 35)\n",
      "(64, 0.6744423599843758)\n",
      "(1.5, 0.7370560663421669)\n",
      "0.7370560663421669\n",
      "(2, 0.7357483962802716)\n",
      "(5, 0.7252231874586864)\n",
      "(10, 0.7117012386575327)\n",
      "<bound method BaseEstimator.get_params of SVC(C=1.5, break_ties=False, cache_size=200, class_weight=None, coef0=0.0,\n",
      "    decision_function_shape='ovr', degree=3, gamma='scale', kernel='rbf',\n",
      "    max_iter=-1, probability=False, random_state=None, shrinking=True,\n",
      "    tol=0.001, verbose=False)>\n",
      "LABEL_EtCO2\n",
      "(2508, 35)\n",
      "(64, 0.8530815066427516)\n",
      "(1.5, 0.8809229186838303)\n",
      "0.8809229186838303\n",
      "(2, 0.8830660846653228)\n",
      "0.8830660846653228\n",
      "(5, 0.886352203933271)\n",
      "0.886352203933271\n",
      "(10, 0.8837549372232185)\n",
      "<bound method BaseEstimator.get_params of SVC(C=5, break_ties=False, cache_size=200, class_weight=None, coef0=0.0,\n",
      "    decision_function_shape='ovr', degree=3, gamma='scale', kernel='rbf',\n",
      "    max_iter=-1, probability=False, random_state=None, shrinking=True,\n",
      "    tol=0.001, verbose=False)>\n",
      "LABEL_Sepsis\n",
      "(2176, 35)\n",
      "(64, 0.6522417778143239)\n",
      "(1.5, 0.7015730688777381)\n",
      "0.7015730688777381\n",
      "(2, 0.6990375951689897)\n",
      "(5, 0.6935767598578375)\n",
      "(10, 0.6820080041052263)\n",
      "<bound method BaseEstimator.get_params of SVC(C=1.5, break_ties=False, cache_size=200, class_weight=None, coef0=0.0,\n",
      "    decision_function_shape='ovr', degree=3, gamma='scale', kernel='rbf',\n",
      "    max_iter=-1, probability=False, random_state=None, shrinking=True,\n",
      "    tol=0.001, verbose=False)>\n"
     ]
    },
    {
     "data": {
      "application/vnd.google.colaboratory.intrinsic+json": {
       "type": "string"
      },
      "text/plain": [
       "\"print(label)\\n  X = resampled_data[idx].iloc[:,0:35]\\n  print(X.shape)\\n  y = resampled_data[idx][label]\\n  print(y.shape)\\n  classifier = svm.SVC()\\n  search = GridSearchCV(estimator=classifier, param_grid=parameters, refit = True, cv = 5, n_jobs = -1)\\n  #search = GridSearchCV(estimator=classifier, param_grid=parameters, scoring = 'roc_auc',  refit = True, cv = 5, n_jobs = -1, verbose = 3)\\n  search.fit(X,y)\\n  best_classifier = search.best_estimator_\\n  print(best_classifier.get_params)\\n  classifiers_sub_1_2.append(best_classifier)\""
      ]
     },
     "execution_count": 6,
     "metadata": {
      "tags": []
     },
     "output_type": "execute_result"
    }
   ],
   "source": [
    "#train classifiers for subtask 1 and 2\n",
    "medical_test_ls = ['LABEL_BaseExcess', 'LABEL_Fibrinogen', 'LABEL_AST', 'LABEL_Alkalinephos', 'LABEL_Bilirubin_total', 'LABEL_Lactate', 'LABEL_TroponinI', 'LABEL_SaO2', 'LABEL_Bilirubin_direct', 'LABEL_EtCO2', 'LABEL_Sepsis']\n",
    "classifiers_sub_1_2 = []\n",
    "parameters = [1.5, 2, 5, 10]\n",
    "for idx,label in enumerate(medical_test_ls):\n",
    "    print(label)\n",
    "    X = resampled_data[idx].iloc[:,0:35]\n",
    "    print(X.shape)\n",
    "    y = resampled_data[idx][label]\n",
    "    classifier = svm.SVC(C = 64)\n",
    "    lambda_score = (64, np.mean(cross_val_score (classifier,X,y, cv = 5, scoring = 'roc_auc')))\n",
    "    print(lambda_score)\n",
    "    for c in parameters:\n",
    "      classifier = svm.SVC(C = c)\n",
    "      scores = cross_val_score(classifier,X,y, cv = 5, scoring = 'roc_auc' )\n",
    "      mean = np.mean(scores)\n",
    "      print((c,mean))\n",
    "      if (mean > lambda_score[1]):\n",
    "        lambda_score = (c, mean)\n",
    "        print(lambda_score[1])\n",
    "    best_classifier = svm.SVC(C = lambda_score[0]).fit(X,y)\n",
    "    print(best_classifier.get_params)\n",
    "    classifiers_sub_1_2.append(best_classifier)\n",
    "\n",
    "\n",
    "\n",
    "\n",
    "'''print(label)\n",
    "  X = resampled_data[idx].iloc[:,0:35]\n",
    "  print(X.shape)\n",
    "  y = resampled_data[idx][label]\n",
    "  print(y.shape)\n",
    "  classifier = svm.SVC()\n",
    "  search = GridSearchCV(estimator=classifier, param_grid=parameters, refit = True, cv = 5, n_jobs = -1)\n",
    "  #search = GridSearchCV(estimator=classifier, param_grid=parameters, scoring = 'roc_auc',  refit = True, cv = 5, n_jobs = -1, verbose = 3)\n",
    "  search.fit(X,y)\n",
    "  best_classifier = search.best_estimator_\n",
    "  print(best_classifier.get_params)\n",
    "  classifiers_sub_1_2.append(best_classifier)'''"
   ]
  },
  {
   "cell_type": "code",
   "execution_count": 7,
   "metadata": {
    "colab": {
     "base_uri": "https://localhost:8080/",
     "height": 398
    },
    "executionInfo": {
     "elapsed": 1029366,
     "status": "ok",
     "timestamp": 1619166841674,
     "user": {
      "displayName": "Chiara Koopmans",
      "photoUrl": "",
      "userId": "07017652876073703042"
     },
     "user_tz": -120
    },
    "id": "6olAI75yChZm",
    "outputId": "4a50f756-05e4-4178-b6e6-b915cc3edb8b"
   },
   "outputs": [
    {
     "name": "stdout",
     "output_type": "stream",
     "text": [
      "<bound method BaseEstimator.get_params of SVC(C=1.5, break_ties=False, cache_size=200, class_weight=None, coef0=0.0,\n",
      "    decision_function_shape='ovr', degree=3, gamma='scale', kernel='rbf',\n",
      "    max_iter=-1, probability=False, random_state=None, shrinking=True,\n",
      "    tol=0.001, verbose=False)>\n",
      "Confusion matrix:\n",
      " [[1287  113]\n",
      " [ 488  912]]\n"
     ]
    },
    {
     "data": {
      "image/png": "[encoded data removed]",
      "text/plain": [
       "<Figure size 432x288 with 2 Axes>"
      ]
     },
     "metadata": {
      "needs_background": "light",
      "tags": []
     },
     "output_type": "display_data"
    }
   ],
   "source": [
    "# confusion_matrix \n",
    "from sklearn.metrics import confusion_matrix\n",
    "from matplotlib import pyplot as plt\n",
    "#\n",
    "idx = 1\n",
    "classifier = classifiers_sub_1_2[idx]\n",
    "X = resampled_data[idx].iloc[:,:35]\n",
    "print(classifier.get_params)\n",
    "y = resampled_data[idx][medical_test_ls[idx]]\n",
    "conf_mat = confusion_matrix(y_true= y, y_pred=classifier.predict(X))\n",
    "print('Confusion matrix:\\n', conf_mat)\n",
    "\n",
    "labels = ['Class 0', 'Class 1']\n",
    "fig = plt.figure()\n",
    "ax = fig.add_subplot(111)\n",
    "cax = ax.matshow(conf_mat, cmap=plt.cm.Blues)\n",
    "fig.colorbar(cax)\n",
    "ax.set_xticklabels([''] + labels)\n",
    "ax.set_yticklabels([''] + labels)\n",
    "plt.xlabel('Predicted')\n",
    "plt.ylabel('Expected')\n",
    "plt.show()\n",
    "#we analyzed the confusion matrix and soo that it classifies wrong so we had to increase the error a lot "
   ]
  },
  {
   "cell_type": "code",
   "execution_count": 8,
   "metadata": {
    "executionInfo": {
     "elapsed": 1070766,
     "status": "ok",
     "timestamp": 1619166883085,
     "user": {
      "displayName": "Chiara Koopmans",
      "photoUrl": "",
      "userId": "07017652876073703042"
     },
     "user_tz": -120
    },
    "id": "OojT6bwCDhLR"
   },
   "outputs": [],
   "source": [
    "#Predicitons for subtaks 1_2\n",
    "for idx, label in enumerate(medical_test_ls):\n",
    "  best_classifier = classifiers_sub_1_2[idx]\n",
    "  x = best_classifier.decision_function(test_features_preprocessed)\n",
    "  #does this workrk?\n",
    "  prediction = sigmoid(x)\n",
    "  #add predictions to output matrix \n",
    "  output[label] = prediction"
   ]
  },
  {
   "cell_type": "code",
   "execution_count": 9,
   "metadata": {
    "executionInfo": {
     "elapsed": 1309482,
     "status": "ok",
     "timestamp": 1619167121811,
     "user": {
      "displayName": "Chiara Koopmans",
      "photoUrl": "",
      "userId": "07017652876073703042"
     },
     "user_tz": -120
    },
    "id": "3uux7gTPDjO9"
   },
   "outputs": [],
   "source": [
    "'''#train model for subtask 3\n",
    "vital_signs_ls = ['LABEL_RRate', 'LABEL_ABPm' , 'LABEL_SpO2', 'LABEL_Heartrate']\n",
    "regressors_vital_signs = []\n",
    "X = train_features_preprocessed\n",
    "parameters = [{'C': [1, 5, 10, 15, 20], 'kernel': ['rbf']}]\n",
    "for label in vital_signs_ls:\n",
    "  print(label)\n",
    "  y = train_labels[label] \n",
    "  regressor = svm.SVR()\n",
    "  search = GridSearchCV(estimator=regressor, param_grid=parameters, refit = True, cv = 5)\n",
    "  search.fit(X,y)\n",
    "  best_regressor = search.best_estimator_\n",
    "   print(best_regressor.get_params)\n",
    "  regressors_vital_signs.append(best_regressors)'''\n",
    "#hard coded weights\n",
    "#train model for subtask 3\n",
    "vital_signs_ls = ['LABEL_RRate', 'LABEL_ABPm' , 'LABEL_SpO2', 'LABEL_Heartrate']\n",
    "regressors_vital_signs = []\n",
    "X = train_features_preprocessed\n",
    "parameters = [5,10,5,20]\n",
    "for idx,label in enumerate(vital_signs_ls):\n",
    "  y = train_labels[label]\n",
    "  c = parameters[idx]\n",
    "  regressor = svm.SVR(C = c)\n",
    "  fitted_regressor = regressor.fit(X,y)\n",
    "  regressors_vital_signs.append(fitted_regressor)"
   ]
  },
  {
   "cell_type": "code",
   "execution_count": 10,
   "metadata": {
    "executionInfo": {
     "elapsed": 1373998,
     "status": "ok",
     "timestamp": 1619167186338,
     "user": {
      "displayName": "Chiara Koopmans",
      "photoUrl": "",
      "userId": "07017652876073703042"
     },
     "user_tz": -120
    },
    "id": "yv7hrjICDmhj"
   },
   "outputs": [],
   "source": [
    "#Predictions for subtask_3\n",
    "for idx, label in enumerate(vital_signs_ls):\n",
    "  best_regressor = regressors_vital_signs[idx]\n",
    "  prediction = best_regressor.predict(test_features_preprocessed)\n",
    "  #add predictions to output matrix \n",
    "  output[label] = prediction "
   ]
  },
  {
   "cell_type": "code",
   "execution_count": 11,
   "metadata": {
    "executionInfo": {
     "elapsed": 1374658,
     "status": "ok",
     "timestamp": 1619167187008,
     "user": {
      "displayName": "Chiara Koopmans",
      "photoUrl": "",
      "userId": "07017652876073703042"
     },
     "user_tz": -120
    },
    "id": "glNFzTNRZqSr"
   },
   "outputs": [],
   "source": [
    "output.to_csv('predictions.zip', index = False, float_format='%.3f', compression='zip')"
   ]
  },
  {
   "cell_type": "code",
   "execution_count": 12,
   "metadata": {
    "executionInfo": {
     "elapsed": 1375364,
     "status": "ok",
     "timestamp": 1619167187725,
     "user": {
      "displayName": "Chiara Koopmans",
      "photoUrl": "",
      "userId": "07017652876073703042"
     },
     "user_tz": -120
    },
    "id": "o3cDaw6paFiw"
   },
   "outputs": [],
   "source": [
    "output.to_csv('predictions.csv', index = False, float_format='%.3f')"
   ]
  },
  {
   "cell_type": "code",
   "execution_count": 12,
   "metadata": {
    "executionInfo": {
     "elapsed": 1375355,
     "status": "ok",
     "timestamp": 1619167187727,
     "user": {
      "displayName": "Chiara Koopmans",
      "photoUrl": "",
      "userId": "07017652876073703042"
     },
     "user_tz": -120
    },
    "id": "ZAzonyM7aI5F"
   },
   "outputs": [],
   "source": []
  }
 ],
 "metadata": {
  "colab": {
   "collapsed_sections": [],
   "name": "copy von copy von no_grid_search_resampled_revised_final_task2.ipynb",
   "provenance": []
  },
  "kernelspec": {
   "display_name": "Python 3",
   "name": "python3"
  },
  "language_info": {
   "name": "python",
   "version": "3.8.10"
  }
 },
 "nbformat": 4,
 "nbformat_minor": 0
}
