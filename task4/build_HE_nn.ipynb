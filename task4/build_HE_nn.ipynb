{
 "cells": [
  {
   "cell_type": "markdown",
   "metadata": {},
   "source": [
    "<h3>Build the pretrain NN</h3>"
   ]
  },
  {
   "cell_type": "code",
   "execution_count": 1,
   "metadata": {},
   "outputs": [],
   "source": [
    "import torch\n",
    "import numpy as np\n",
    "import pandas as pd"
   ]
  },
  {
   "cell_type": "markdown",
   "metadata": {},
   "source": [
    "<h4>Load in Datasets</h4>"
   ]
  },
  {
   "cell_type": "code",
   "execution_count": 8,
   "metadata": {},
   "outputs": [
    {
     "data": {
      "text/html": [
       "<div>\n",
       "<style scoped>\n",
       "    .dataframe tbody tr th:only-of-type {\n",
       "        vertical-align: middle;\n",
       "    }\n",
       "\n",
       "    .dataframe tbody tr th {\n",
       "        vertical-align: top;\n",
       "    }\n",
       "\n",
       "    .dataframe thead th {\n",
       "        text-align: right;\n",
       "    }\n",
       "</style>\n",
       "<table border=\"1\" class=\"dataframe\">\n",
       "  <thead>\n",
       "    <tr style=\"text-align: right;\">\n",
       "      <th></th>\n",
       "      <th>Id</th>\n",
       "      <th>smiles</th>\n",
       "      <th>feature_1</th>\n",
       "      <th>feature_2</th>\n",
       "      <th>feature_3</th>\n",
       "      <th>feature_4</th>\n",
       "      <th>feature_5</th>\n",
       "      <th>feature_6</th>\n",
       "      <th>feature_7</th>\n",
       "      <th>feature_8</th>\n",
       "      <th>feature_9</th>\n",
       "      <th>feature_10</th>\n",
       "    </tr>\n",
       "  </thead>\n",
       "  <tbody>\n",
       "    <tr>\n",
       "      <th>0</th>\n",
       "      <td>0</td>\n",
       "      <td>c1occ2c1c1ccc3cscc3c1c1ncc3cc(ccc3c21)-c1cccc2...</td>\n",
       "      <td>-4.626551</td>\n",
       "      <td>1.878084</td>\n",
       "      <td>-2.120061</td>\n",
       "      <td>-2.837257</td>\n",
       "      <td>-0.558068</td>\n",
       "      <td>-1.163544</td>\n",
       "      <td>-1.802773</td>\n",
       "      <td>-1.978816</td>\n",
       "      <td>-3.417407</td>\n",
       "      <td>2.080516</td>\n",
       "    </tr>\n",
       "    <tr>\n",
       "      <th>1</th>\n",
       "      <td>1</td>\n",
       "      <td>C1C=c2c(cc3ncc4c5[SiH2]C=Cc5oc4c3c2=C1)-c1scc2...</td>\n",
       "      <td>0.954428</td>\n",
       "      <td>-3.375941</td>\n",
       "      <td>1.212747</td>\n",
       "      <td>-0.113535</td>\n",
       "      <td>-0.035171</td>\n",
       "      <td>4.587743</td>\n",
       "      <td>2.160261</td>\n",
       "      <td>1.831947</td>\n",
       "      <td>0.376081</td>\n",
       "      <td>-1.268831</td>\n",
       "    </tr>\n",
       "    <tr>\n",
       "      <th>2</th>\n",
       "      <td>2</td>\n",
       "      <td>C1C=c2c3cccnc3c3c4c[nH]cc4c4cc(cnc4c3c2=C1)-c1...</td>\n",
       "      <td>-4.419375</td>\n",
       "      <td>1.609313</td>\n",
       "      <td>1.210385</td>\n",
       "      <td>1.303962</td>\n",
       "      <td>0.481177</td>\n",
       "      <td>0.933787</td>\n",
       "      <td>-1.796416</td>\n",
       "      <td>-3.207175</td>\n",
       "      <td>-3.555978</td>\n",
       "      <td>-4.706989</td>\n",
       "    </tr>\n",
       "    <tr>\n",
       "      <th>3</th>\n",
       "      <td>3</td>\n",
       "      <td>[SiH2]1C=Cc2c1csc2-c1cnc2c(c1)c1ccccc1c1cc3ccc...</td>\n",
       "      <td>1.282784</td>\n",
       "      <td>1.646818</td>\n",
       "      <td>0.844859</td>\n",
       "      <td>-3.627194</td>\n",
       "      <td>3.941808</td>\n",
       "      <td>1.735151</td>\n",
       "      <td>-1.016282</td>\n",
       "      <td>0.315312</td>\n",
       "      <td>-5.175358</td>\n",
       "      <td>-4.075374</td>\n",
       "    </tr>\n",
       "    <tr>\n",
       "      <th>4</th>\n",
       "      <td>4</td>\n",
       "      <td>c1occ2c1c(cc1[se]c3ccncc3c21)-c1cccc2nsnc12</td>\n",
       "      <td>-3.170778</td>\n",
       "      <td>5.724367</td>\n",
       "      <td>0.072722</td>\n",
       "      <td>-1.600050</td>\n",
       "      <td>1.423811</td>\n",
       "      <td>-1.871022</td>\n",
       "      <td>-0.086497</td>\n",
       "      <td>0.129473</td>\n",
       "      <td>2.449185</td>\n",
       "      <td>1.418265</td>\n",
       "    </tr>\n",
       "  </tbody>\n",
       "</table>\n",
       "</div>"
      ],
      "text/plain": [
       "   Id                                             smiles  feature_1  \\\n",
       "0   0  c1occ2c1c1ccc3cscc3c1c1ncc3cc(ccc3c21)-c1cccc2...  -4.626551   \n",
       "1   1  C1C=c2c(cc3ncc4c5[SiH2]C=Cc5oc4c3c2=C1)-c1scc2...   0.954428   \n",
       "2   2  C1C=c2c3cccnc3c3c4c[nH]cc4c4cc(cnc4c3c2=C1)-c1...  -4.419375   \n",
       "3   3  [SiH2]1C=Cc2c1csc2-c1cnc2c(c1)c1ccccc1c1cc3ccc...   1.282784   \n",
       "4   4        c1occ2c1c(cc1[se]c3ccncc3c21)-c1cccc2nsnc12  -3.170778   \n",
       "\n",
       "   feature_2  feature_3  feature_4  feature_5  feature_6  feature_7  \\\n",
       "0   1.878084  -2.120061  -2.837257  -0.558068  -1.163544  -1.802773   \n",
       "1  -3.375941   1.212747  -0.113535  -0.035171   4.587743   2.160261   \n",
       "2   1.609313   1.210385   1.303962   0.481177   0.933787  -1.796416   \n",
       "3   1.646818   0.844859  -3.627194   3.941808   1.735151  -1.016282   \n",
       "4   5.724367   0.072722  -1.600050   1.423811  -1.871022  -0.086497   \n",
       "\n",
       "   feature_8  feature_9  feature_10  \n",
       "0  -1.978816  -3.417407    2.080516  \n",
       "1   1.831947   0.376081   -1.268831  \n",
       "2  -3.207175  -3.555978   -4.706989  \n",
       "3   0.315312  -5.175358   -4.075374  \n",
       "4   0.129473   2.449185    1.418265  "
      ]
     },
     "execution_count": 8,
     "metadata": {},
     "output_type": "execute_result"
    }
   ],
   "source": [
    "pretrain_dataset = pd.read_csv('./processed_pretrain_dataset.csv.zip')\n",
    "pretrain_labels = pd.read_csv('./pretrain_labels.csv.zip')\n",
    "pretrain_dataset.head()"
   ]
  },
  {
   "cell_type": "markdown",
   "metadata": {},
   "source": [
    "<h4>NN construction</h4>"
   ]
  },
  {
   "cell_type": "code",
   "execution_count": 3,
   "metadata": {},
   "outputs": [],
   "source": []
  },
  {
   "cell_type": "markdown",
   "metadata": {},
   "source": [
    "<h4>Main</h4>"
   ]
  },
  {
   "cell_type": "code",
   "execution_count": 4,
   "metadata": {},
   "outputs": [],
   "source": []
  }
 ],
 "metadata": {
  "interpreter": {
   "hash": "397704579725e15f5c7cb49fe5f0341eb7531c82d19f2c29d197e8b64ab5776b"
  },
  "kernelspec": {
   "display_name": "Python 3.9.4 64-bit",
   "language": "python",
   "name": "python3"
  },
  "language_info": {
   "codemirror_mode": {
    "name": "ipython",
    "version": 3
   },
   "file_extension": ".py",
   "mimetype": "text/x-python",
   "name": "python",
   "nbconvert_exporter": "python",
   "pygments_lexer": "ipython3",
   "version": "3.9.13"
  },
  "orig_nbformat": 4
 },
 "nbformat": 4,
 "nbformat_minor": 2
}
